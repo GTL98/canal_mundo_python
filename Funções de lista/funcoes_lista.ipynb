{
  "nbformat": 4,
  "nbformat_minor": 0,
  "metadata": {
    "colab": {
      "provenance": []
    },
    "kernelspec": {
      "name": "python3",
      "display_name": "Python 3"
    },
    "language_info": {
      "name": "python"
    }
  },
  "cells": [
    {
      "cell_type": "markdown",
      "source": [
        "# 1. Adicionar um valor ao final da lista"
      ],
      "metadata": {
        "id": "zxMb2IMNDpDd"
      }
    },
    {
      "cell_type": "code",
      "execution_count": 1,
      "metadata": {
        "id": "50clFumyDheN",
        "colab": {
          "base_uri": "https://localhost:8080/"
        },
        "outputId": "76d7b027-b2b6-43f9-ebe0-db9dc7059c41"
      },
      "outputs": [
        {
          "output_type": "stream",
          "name": "stdout",
          "text": [
            "[1, 2, 3, 4]\n"
          ]
        }
      ],
      "source": [
        "lista = [1, 2, 3]\n",
        "lista.append(4)\n",
        "print(lista)"
      ]
    },
    {
      "cell_type": "markdown",
      "source": [
        "# 2. Adicionar mais de um item de uma só vez"
      ],
      "metadata": {
        "id": "WGKj5lvUDuwI"
      }
    },
    {
      "cell_type": "code",
      "source": [
        "lista = [1, 2, 3]\n",
        "lista.extend([4, 5, 6])\n",
        "print(lista)"
      ],
      "metadata": {
        "id": "unhesyusDvxL",
        "colab": {
          "base_uri": "https://localhost:8080/"
        },
        "outputId": "6c72f8a3-2ca9-47d2-b684-aede0512e637"
      },
      "execution_count": 2,
      "outputs": [
        {
          "output_type": "stream",
          "name": "stdout",
          "text": [
            "[1, 2, 3, 4, 5, 6]\n"
          ]
        }
      ]
    },
    {
      "cell_type": "markdown",
      "source": [
        "# 3. Inserir um valor em uma determinada posição"
      ],
      "metadata": {
        "id": "-0Ycb-qUDxC1"
      }
    },
    {
      "cell_type": "code",
      "source": [
        "lista = [1, 2, 3]\n",
        "lista.insert(1, 4)\n",
        "print(lista)"
      ],
      "metadata": {
        "id": "ZfSBmeK8DyjM",
        "colab": {
          "base_uri": "https://localhost:8080/"
        },
        "outputId": "61ea6b6e-7d5b-4808-f78e-2e680d99c9c0"
      },
      "execution_count": 3,
      "outputs": [
        {
          "output_type": "stream",
          "name": "stdout",
          "text": [
            "[1, 4, 2, 3]\n"
          ]
        }
      ]
    },
    {
      "cell_type": "markdown",
      "source": [
        "# 4. Remover um item da lista"
      ],
      "metadata": {
        "id": "x6ZHjuAxDy-M"
      }
    },
    {
      "cell_type": "code",
      "source": [
        "lista = [1, 2, 3, 2]\n",
        "lista.remove(2)\n",
        "print(lista)"
      ],
      "metadata": {
        "id": "MNe0cmfjD2HE",
        "colab": {
          "base_uri": "https://localhost:8080/"
        },
        "outputId": "5c20b035-622a-4eec-e260-058cbf7d241b"
      },
      "execution_count": 4,
      "outputs": [
        {
          "output_type": "stream",
          "name": "stdout",
          "text": [
            "[1, 3, 2]\n"
          ]
        }
      ]
    },
    {
      "cell_type": "markdown",
      "source": [
        "# 5. Remover um item da lista mas salvar em uma variável"
      ],
      "metadata": {
        "id": "RoaXv_zvD2n5"
      }
    },
    {
      "cell_type": "code",
      "source": [
        "lista = [1, 2, 3]\n",
        "removido = lista.pop()\n",
        "print(removido)\n",
        "print(lista)"
      ],
      "metadata": {
        "id": "OdfBU2T9D8QM",
        "colab": {
          "base_uri": "https://localhost:8080/"
        },
        "outputId": "2d49764b-5bc1-4d01-889f-788b9d0d807f"
      },
      "execution_count": 5,
      "outputs": [
        {
          "output_type": "stream",
          "name": "stdout",
          "text": [
            "3\n",
            "[1, 2]\n"
          ]
        }
      ]
    },
    {
      "cell_type": "code",
      "source": [
        "lista = [1, 2, 3]\n",
        "removido = lista.pop(0)\n",
        "print(removido)\n",
        "print(lista)"
      ],
      "metadata": {
        "colab": {
          "base_uri": "https://localhost:8080/"
        },
        "id": "o4zUUqzkj7ew",
        "outputId": "3e402d83-81d7-4e4c-888f-236be21c7ff6"
      },
      "execution_count": 6,
      "outputs": [
        {
          "output_type": "stream",
          "name": "stdout",
          "text": [
            "1\n",
            "[2, 3]\n"
          ]
        }
      ]
    },
    {
      "cell_type": "markdown",
      "source": [
        "# 6. Remover todos os itens da lista de uma só vez"
      ],
      "metadata": {
        "id": "s-gnXt-GD8pz"
      }
    },
    {
      "cell_type": "code",
      "source": [
        "lista = [1, 2, 3]\n",
        "lista.clear()\n",
        "print(lista)"
      ],
      "metadata": {
        "id": "ulQjwgmnEAFQ",
        "colab": {
          "base_uri": "https://localhost:8080/"
        },
        "outputId": "c942e7fa-651f-4f37-f521-fb5cc4e1e75a"
      },
      "execution_count": 7,
      "outputs": [
        {
          "output_type": "stream",
          "name": "stdout",
          "text": [
            "[]\n"
          ]
        }
      ]
    },
    {
      "cell_type": "markdown",
      "source": [
        "# 7. Índice do item na lista"
      ],
      "metadata": {
        "id": "dRFh-cHqEAdi"
      }
    },
    {
      "cell_type": "code",
      "source": [
        "lista = [1, 2, 3, 2]\n",
        "indice = lista.index(2)\n",
        "print(indice)"
      ],
      "metadata": {
        "id": "atlWl2tgECNz",
        "colab": {
          "base_uri": "https://localhost:8080/"
        },
        "outputId": "f33276cb-cf35-4c93-9fca-5041787cfcbf"
      },
      "execution_count": 8,
      "outputs": [
        {
          "output_type": "stream",
          "name": "stdout",
          "text": [
            "1\n"
          ]
        }
      ]
    },
    {
      "cell_type": "markdown",
      "source": [
        "# 8. Contar quantas ocorrência há de um item na lista"
      ],
      "metadata": {
        "id": "ftXkZ067ECrd"
      }
    },
    {
      "cell_type": "code",
      "source": [
        "lista = [1, 2, 3, 4, 3]\n",
        "print(lista.count(3))"
      ],
      "metadata": {
        "id": "Lrr0vvtvEFUN",
        "colab": {
          "base_uri": "https://localhost:8080/"
        },
        "outputId": "246d4ec9-adc6-47f4-baa0-9324b475eb6e"
      },
      "execution_count": 9,
      "outputs": [
        {
          "output_type": "stream",
          "name": "stdout",
          "text": [
            "2\n"
          ]
        }
      ]
    },
    {
      "cell_type": "markdown",
      "source": [
        "# 9. Ordenar a ordem em lista crescente"
      ],
      "metadata": {
        "id": "tX1CqBoGEFxX"
      }
    },
    {
      "cell_type": "code",
      "source": [
        "lista = [4, 1, 2, 3]\n",
        "lista.sort()\n",
        "print(lista)"
      ],
      "metadata": {
        "id": "jnQHMhklEJQ7",
        "colab": {
          "base_uri": "https://localhost:8080/"
        },
        "outputId": "01b0f6b0-9a61-441a-fdbb-9dc7ee3fbc54"
      },
      "execution_count": 10,
      "outputs": [
        {
          "output_type": "stream",
          "name": "stdout",
          "text": [
            "[1, 2, 3, 4]\n"
          ]
        }
      ]
    },
    {
      "cell_type": "code",
      "source": [
        "lista = [4, 1, 2, 3]\n",
        "lista.sort(reverse=True)\n",
        "print(lista)"
      ],
      "metadata": {
        "colab": {
          "base_uri": "https://localhost:8080/"
        },
        "id": "ABC3C1ihlUEV",
        "outputId": "510f60c3-a206-4967-8a86-5f04f62a9d17"
      },
      "execution_count": 11,
      "outputs": [
        {
          "output_type": "stream",
          "name": "stdout",
          "text": [
            "[4, 3, 2, 1]\n"
          ]
        }
      ]
    },
    {
      "cell_type": "markdown",
      "source": [
        "# 10. Inverter a ordem dos itens na lista"
      ],
      "metadata": {
        "id": "Ktr8qZp8EPCS"
      }
    },
    {
      "cell_type": "code",
      "source": [
        "lista = [5, 3, 2, 4, 1]\n",
        "lista.reverse()\n",
        "print(lista)"
      ],
      "metadata": {
        "id": "HR5WJ30pEQCJ",
        "colab": {
          "base_uri": "https://localhost:8080/"
        },
        "outputId": "4a7f96e6-8349-4b79-ba38-443bcd8d18ca"
      },
      "execution_count": 12,
      "outputs": [
        {
          "output_type": "stream",
          "name": "stdout",
          "text": [
            "[1, 4, 2, 3, 5]\n"
          ]
        }
      ]
    },
    {
      "cell_type": "markdown",
      "source": [
        "# 11. Copiar uma lista"
      ],
      "metadata": {
        "id": "h8XRzPIOERd_"
      }
    },
    {
      "cell_type": "code",
      "source": [
        "lista = [1, 2, 3]\n",
        "copia = lista.copy()\n",
        "print(copia)"
      ],
      "metadata": {
        "id": "i0UhDzijESME",
        "colab": {
          "base_uri": "https://localhost:8080/"
        },
        "outputId": "24287bdf-737b-4e5d-9357-bad0bb7b0009"
      },
      "execution_count": 13,
      "outputs": [
        {
          "output_type": "stream",
          "name": "stdout",
          "text": [
            "[1, 2, 3]\n"
          ]
        }
      ]
    },
    {
      "cell_type": "markdown",
      "source": [
        "# 12. Tamanho de uma lista"
      ],
      "metadata": {
        "id": "3vFf4PscETnx"
      }
    },
    {
      "cell_type": "code",
      "source": [
        "lista = [1, 2, 3]\n",
        "print(len(lista))"
      ],
      "metadata": {
        "id": "2qVjxL0bEUQQ",
        "colab": {
          "base_uri": "https://localhost:8080/"
        },
        "outputId": "63081d76-145a-4181-9767-9693cd2402f1"
      },
      "execution_count": 14,
      "outputs": [
        {
          "output_type": "stream",
          "name": "stdout",
          "text": [
            "3\n"
          ]
        }
      ]
    },
    {
      "cell_type": "markdown",
      "source": [
        "# 13. Valor máximo de uma lista"
      ],
      "metadata": {
        "id": "2NrdkSEBEVqB"
      }
    },
    {
      "cell_type": "code",
      "source": [
        "lista = [1, 2, 3]\n",
        "print(max(lista))"
      ],
      "metadata": {
        "id": "0C7Wz7wmEWgQ",
        "colab": {
          "base_uri": "https://localhost:8080/"
        },
        "outputId": "b25a2ba0-7d50-4d26-921b-76ccf6a58930"
      },
      "execution_count": 15,
      "outputs": [
        {
          "output_type": "stream",
          "name": "stdout",
          "text": [
            "3\n"
          ]
        }
      ]
    },
    {
      "cell_type": "markdown",
      "source": [
        "# 14. Valor mínimo de uma lista"
      ],
      "metadata": {
        "id": "hzhlsey1EXFa"
      }
    },
    {
      "cell_type": "code",
      "source": [
        "lista = [1, 2, 3]\n",
        "print(min(lista))"
      ],
      "metadata": {
        "id": "y70-m63zEZEp",
        "colab": {
          "base_uri": "https://localhost:8080/"
        },
        "outputId": "e376e99b-d8b2-41a8-d978-ce4984db0426"
      },
      "execution_count": 16,
      "outputs": [
        {
          "output_type": "stream",
          "name": "stdout",
          "text": [
            "1\n"
          ]
        }
      ]
    },
    {
      "cell_type": "markdown",
      "source": [
        "# 15. Somatório de uma lista"
      ],
      "metadata": {
        "id": "spevg2eGEahe"
      }
    },
    {
      "cell_type": "code",
      "source": [
        "lista = [1, 2, 3]\n",
        "print(sum(lista))"
      ],
      "metadata": {
        "id": "JBFiQQqWEbUJ",
        "colab": {
          "base_uri": "https://localhost:8080/"
        },
        "outputId": "7cfee64e-cf97-40bf-beb1-cad44a7c983b"
      },
      "execution_count": 17,
      "outputs": [
        {
          "output_type": "stream",
          "name": "stdout",
          "text": [
            "6\n"
          ]
        }
      ]
    },
    {
      "cell_type": "markdown",
      "source": [
        "# 16. Deletar por completo uma lista"
      ],
      "metadata": {
        "id": "vMaRBK3hEfcU"
      }
    },
    {
      "cell_type": "code",
      "source": [
        "lista = [1, 2, 3]\n",
        "del lista\n",
        "print(lista)"
      ],
      "metadata": {
        "id": "ChNqRRpfEgtg",
        "colab": {
          "base_uri": "https://localhost:8080/",
          "height": 176
        },
        "outputId": "bbb6ecb7-d69c-4eb8-b1ae-ffb7d8dd6c63"
      },
      "execution_count": 18,
      "outputs": [
        {
          "output_type": "error",
          "ename": "NameError",
          "evalue": "name 'lista' is not defined",
          "traceback": [
            "\u001b[0;31m---------------------------------------------------------------------------\u001b[0m",
            "\u001b[0;31mNameError\u001b[0m                                 Traceback (most recent call last)",
            "\u001b[0;32m<ipython-input-18-412ebda7ec35>\u001b[0m in \u001b[0;36m<cell line: 0>\u001b[0;34m()\u001b[0m\n\u001b[1;32m      1\u001b[0m \u001b[0mlista\u001b[0m \u001b[0;34m=\u001b[0m \u001b[0;34m[\u001b[0m\u001b[0;36m1\u001b[0m\u001b[0;34m,\u001b[0m \u001b[0;36m2\u001b[0m\u001b[0;34m,\u001b[0m \u001b[0;36m3\u001b[0m\u001b[0;34m]\u001b[0m\u001b[0;34m\u001b[0m\u001b[0;34m\u001b[0m\u001b[0m\n\u001b[1;32m      2\u001b[0m \u001b[0;32mdel\u001b[0m \u001b[0mlista\u001b[0m\u001b[0;34m\u001b[0m\u001b[0;34m\u001b[0m\u001b[0m\n\u001b[0;32m----> 3\u001b[0;31m \u001b[0mprint\u001b[0m\u001b[0;34m(\u001b[0m\u001b[0mlista\u001b[0m\u001b[0;34m)\u001b[0m\u001b[0;34m\u001b[0m\u001b[0;34m\u001b[0m\u001b[0m\n\u001b[0m",
            "\u001b[0;31mNameError\u001b[0m: name 'lista' is not defined"
          ]
        }
      ]
    }
  ]
}