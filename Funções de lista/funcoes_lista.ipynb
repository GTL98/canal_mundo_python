{
  "nbformat": 4,
  "nbformat_minor": 0,
  "metadata": {
    "colab": {
      "provenance": []
    },
    "kernelspec": {
      "name": "python3",
      "display_name": "Python 3"
    },
    "language_info": {
      "name": "python"
    }
  },
  "cells": [
    {
      "cell_type": "markdown",
      "source": [
        "# 1. Adicionar um valor ao final da lista"
      ],
      "metadata": {
        "id": "zxMb2IMNDpDd"
      }
    },
    {
      "cell_type": "code",
      "execution_count": 1,
      "metadata": {
        "id": "50clFumyDheN",
        "colab": {
          "base_uri": "https://localhost:8080/"
        },
        "outputId": "cd17eac4-edd4-4a16-c63d-dc5de60e471e"
      },
      "outputs": [
        {
          "output_type": "stream",
          "name": "stdout",
          "text": [
            "[1, 2, 3, 4]\n"
          ]
        }
      ],
      "source": [
        "lista = [1, 2, 3]\n",
        "lista.append(4)\n",
        "print(lista)"
      ]
    },
    {
      "cell_type": "markdown",
      "source": [
        "# 2. Adicionar mais de um item de uma só vez"
      ],
      "metadata": {
        "id": "WGKj5lvUDuwI"
      }
    },
    {
      "cell_type": "code",
      "source": [
        "lista = [1, 2, 3]\n",
        "lista.extend([4, 5, 6])\n",
        "print(lista)"
      ],
      "metadata": {
        "id": "unhesyusDvxL",
        "colab": {
          "base_uri": "https://localhost:8080/"
        },
        "outputId": "c9975e87-5ca5-4740-b265-38748f84dfb5"
      },
      "execution_count": 2,
      "outputs": [
        {
          "output_type": "stream",
          "name": "stdout",
          "text": [
            "[1, 2, 3, 4, 5, 6]\n"
          ]
        }
      ]
    },
    {
      "cell_type": "markdown",
      "source": [
        "# 3. Inserir um valor em uma determinada posição"
      ],
      "metadata": {
        "id": "-0Ycb-qUDxC1"
      }
    },
    {
      "cell_type": "code",
      "source": [
        "lista = [1, 2, 3]\n",
        "lista.insert(1, 4)\n",
        "print(lista)"
      ],
      "metadata": {
        "id": "ZfSBmeK8DyjM",
        "colab": {
          "base_uri": "https://localhost:8080/"
        },
        "outputId": "3afd6c06-08c4-4c1d-bac4-e5072985f0bc"
      },
      "execution_count": 3,
      "outputs": [
        {
          "output_type": "stream",
          "name": "stdout",
          "text": [
            "[1, 4, 2, 3]\n"
          ]
        }
      ]
    },
    {
      "cell_type": "markdown",
      "source": [
        "# 4. Remover um item da lista"
      ],
      "metadata": {
        "id": "x6ZHjuAxDy-M"
      }
    },
    {
      "cell_type": "code",
      "source": [
        "lista = [1, 2, 3, 2]\n",
        "lista.remove(2)\n",
        "print(lista)"
      ],
      "metadata": {
        "id": "MNe0cmfjD2HE",
        "colab": {
          "base_uri": "https://localhost:8080/"
        },
        "outputId": "b29a52bd-9ded-4b3d-909f-a1a66f9ad66a"
      },
      "execution_count": 5,
      "outputs": [
        {
          "output_type": "stream",
          "name": "stdout",
          "text": [
            "[1, 3, 2]\n"
          ]
        }
      ]
    },
    {
      "cell_type": "markdown",
      "source": [
        "# 5. Remover um item da lista mas salvar em uma variável"
      ],
      "metadata": {
        "id": "RoaXv_zvD2n5"
      }
    },
    {
      "cell_type": "code",
      "source": [
        "lista = [1, 2, 3]\n",
        "removido = lista.pop()\n",
        "print(removido)\n",
        "print(lista)"
      ],
      "metadata": {
        "id": "OdfBU2T9D8QM",
        "colab": {
          "base_uri": "https://localhost:8080/"
        },
        "outputId": "9fb9dddd-6c03-4d86-f45e-52ee4a2ad20d"
      },
      "execution_count": 6,
      "outputs": [
        {
          "output_type": "stream",
          "name": "stdout",
          "text": [
            "3\n",
            "[1, 2]\n"
          ]
        }
      ]
    },
    {
      "cell_type": "code",
      "source": [
        "lista = [1, 2, 3]\n",
        "removido = lista.pop(0)\n",
        "print(removido)\n",
        "print(lista)"
      ],
      "metadata": {
        "colab": {
          "base_uri": "https://localhost:8080/"
        },
        "id": "o4zUUqzkj7ew",
        "outputId": "d6df4e3b-cf43-4204-9194-fdf1693d8dc5"
      },
      "execution_count": 7,
      "outputs": [
        {
          "output_type": "stream",
          "name": "stdout",
          "text": [
            "1\n",
            "[2, 3]\n"
          ]
        }
      ]
    },
    {
      "cell_type": "markdown",
      "source": [
        "# 6. Remover todos os itens da lista de uma só vez"
      ],
      "metadata": {
        "id": "s-gnXt-GD8pz"
      }
    },
    {
      "cell_type": "code",
      "source": [
        "lista = [1, 2, 3]\n",
        "lista.clear()\n",
        "print(lista)"
      ],
      "metadata": {
        "id": "ulQjwgmnEAFQ",
        "colab": {
          "base_uri": "https://localhost:8080/"
        },
        "outputId": "48ef727a-7ad8-4323-a82c-7518acc3919f"
      },
      "execution_count": 8,
      "outputs": [
        {
          "output_type": "stream",
          "name": "stdout",
          "text": [
            "[]\n"
          ]
        }
      ]
    },
    {
      "cell_type": "markdown",
      "source": [
        "# 7. Índice do item na lista"
      ],
      "metadata": {
        "id": "dRFh-cHqEAdi"
      }
    },
    {
      "cell_type": "code",
      "source": [
        "lista = [1, 2, 3, 2]\n",
        "indice = lista.index(2)\n",
        "print(indice)"
      ],
      "metadata": {
        "id": "atlWl2tgECNz",
        "colab": {
          "base_uri": "https://localhost:8080/"
        },
        "outputId": "0c3c8b27-2a47-4639-f4fd-31953a70ab5c"
      },
      "execution_count": 9,
      "outputs": [
        {
          "output_type": "stream",
          "name": "stdout",
          "text": [
            "1\n"
          ]
        }
      ]
    },
    {
      "cell_type": "markdown",
      "source": [
        "# 8. Contar quantas ocorrência há de um item na lista"
      ],
      "metadata": {
        "id": "ftXkZ067ECrd"
      }
    },
    {
      "cell_type": "code",
      "source": [
        "lista = [1, 2, 3, 4, 3]\n",
        "print(lista.count(3))"
      ],
      "metadata": {
        "id": "Lrr0vvtvEFUN",
        "colab": {
          "base_uri": "https://localhost:8080/"
        },
        "outputId": "dd05616e-c270-4b07-cdc1-c920c4097081"
      },
      "execution_count": 12,
      "outputs": [
        {
          "output_type": "stream",
          "name": "stdout",
          "text": [
            "2\n"
          ]
        }
      ]
    },
    {
      "cell_type": "markdown",
      "source": [
        "# 9. Ordenar a ordem em lista crescente"
      ],
      "metadata": {
        "id": "tX1CqBoGEFxX"
      }
    },
    {
      "cell_type": "code",
      "source": [
        "lista = [4, 1, 2, 3]\n",
        "lista.sort()\n",
        "print(lista)"
      ],
      "metadata": {
        "id": "jnQHMhklEJQ7",
        "colab": {
          "base_uri": "https://localhost:8080/"
        },
        "outputId": "95c90a3e-acaa-4cc4-b710-52122e34905e"
      },
      "execution_count": 13,
      "outputs": [
        {
          "output_type": "stream",
          "name": "stdout",
          "text": [
            "[1, 2, 3, 4]\n"
          ]
        }
      ]
    },
    {
      "cell_type": "code",
      "source": [
        "lista = [4, 1, 2, 3]\n",
        "lista.sort(reverse=True)\n",
        "print(lista)"
      ],
      "metadata": {
        "colab": {
          "base_uri": "https://localhost:8080/"
        },
        "id": "ABC3C1ihlUEV",
        "outputId": "d3a8d9a6-8ac6-4e29-c263-a57122a40722"
      },
      "execution_count": 14,
      "outputs": [
        {
          "output_type": "stream",
          "name": "stdout",
          "text": [
            "[4, 3, 2, 1]\n"
          ]
        }
      ]
    },
    {
      "cell_type": "markdown",
      "source": [
        "# 10. Inverter a ordem dos itens na lista"
      ],
      "metadata": {
        "id": "Ktr8qZp8EPCS"
      }
    },
    {
      "cell_type": "code",
      "source": [
        "lista = [5, 3, 2, 4, 1]\n",
        "lista.reverse()\n",
        "print(lista)"
      ],
      "metadata": {
        "id": "HR5WJ30pEQCJ",
        "colab": {
          "base_uri": "https://localhost:8080/"
        },
        "outputId": "dc009b9e-e2e7-4779-e74a-c056eaa95399"
      },
      "execution_count": 18,
      "outputs": [
        {
          "output_type": "stream",
          "name": "stdout",
          "text": [
            "[1, 4, 2, 3, 5]\n"
          ]
        }
      ]
    },
    {
      "cell_type": "markdown",
      "source": [
        "# 11. Copiar uma lista"
      ],
      "metadata": {
        "id": "h8XRzPIOERd_"
      }
    },
    {
      "cell_type": "code",
      "source": [
        "lista = [1, 2, 3]\n",
        "copia = lista.copy()\n",
        "print(copia)"
      ],
      "metadata": {
        "id": "i0UhDzijESME",
        "colab": {
          "base_uri": "https://localhost:8080/"
        },
        "outputId": "befcd13a-51b7-4d07-b89a-190fd73aeb8f"
      },
      "execution_count": 19,
      "outputs": [
        {
          "output_type": "stream",
          "name": "stdout",
          "text": [
            "[1, 2, 3]\n"
          ]
        }
      ]
    },
    {
      "cell_type": "markdown",
      "source": [
        "# 12. Tamanho de uma lista"
      ],
      "metadata": {
        "id": "3vFf4PscETnx"
      }
    },
    {
      "cell_type": "code",
      "source": [
        "lista = [1, 2, 3]\n",
        "print(len(lista))"
      ],
      "metadata": {
        "id": "2qVjxL0bEUQQ",
        "colab": {
          "base_uri": "https://localhost:8080/"
        },
        "outputId": "7ed46c48-eb6e-4811-eae0-55150d6ef8d3"
      },
      "execution_count": 20,
      "outputs": [
        {
          "output_type": "stream",
          "name": "stdout",
          "text": [
            "3\n"
          ]
        }
      ]
    },
    {
      "cell_type": "markdown",
      "source": [
        "# 13. Valor máximo de uma lista"
      ],
      "metadata": {
        "id": "2NrdkSEBEVqB"
      }
    },
    {
      "cell_type": "code",
      "source": [
        "lista = [1, 2, 3]\n",
        "print(max(lista))"
      ],
      "metadata": {
        "id": "0C7Wz7wmEWgQ",
        "colab": {
          "base_uri": "https://localhost:8080/"
        },
        "outputId": "53b26f98-8577-410e-d31f-ca25bed84d0c"
      },
      "execution_count": 21,
      "outputs": [
        {
          "output_type": "stream",
          "name": "stdout",
          "text": [
            "3\n"
          ]
        }
      ]
    },
    {
      "cell_type": "markdown",
      "source": [
        "# 14. Valor mínimo de uma lista"
      ],
      "metadata": {
        "id": "hzhlsey1EXFa"
      }
    },
    {
      "cell_type": "code",
      "source": [
        "lista = [1, 2, 3]\n",
        "print(min(lista))"
      ],
      "metadata": {
        "id": "y70-m63zEZEp",
        "colab": {
          "base_uri": "https://localhost:8080/"
        },
        "outputId": "2cb34d61-e479-4426-f981-c84c513cb202"
      },
      "execution_count": 22,
      "outputs": [
        {
          "output_type": "stream",
          "name": "stdout",
          "text": [
            "1\n"
          ]
        }
      ]
    },
    {
      "cell_type": "markdown",
      "source": [
        "# 15. Somatório de uma lista"
      ],
      "metadata": {
        "id": "spevg2eGEahe"
      }
    },
    {
      "cell_type": "code",
      "source": [
        "lista = [1, 2, 3]\n",
        "print(sum(lista))"
      ],
      "metadata": {
        "id": "JBFiQQqWEbUJ",
        "colab": {
          "base_uri": "https://localhost:8080/"
        },
        "outputId": "99c22545-4a7f-4e73-e6df-48e6dab9f8de"
      },
      "execution_count": 23,
      "outputs": [
        {
          "output_type": "stream",
          "name": "stdout",
          "text": [
            "6\n"
          ]
        }
      ]
    },
    {
      "cell_type": "markdown",
      "source": [
        "# 16. Deletar por completo uma lista"
      ],
      "metadata": {
        "id": "vMaRBK3hEfcU"
      }
    },
    {
      "cell_type": "code",
      "source": [
        "lista = [1, 2, 3]\n",
        "del lista\n",
        "print(lista)"
      ],
      "metadata": {
        "id": "ChNqRRpfEgtg",
        "colab": {
          "base_uri": "https://localhost:8080/",
          "height": 176
        },
        "outputId": "f529740b-bcbe-4580-8c9d-b86735006cee"
      },
      "execution_count": 24,
      "outputs": [
        {
          "output_type": "error",
          "ename": "NameError",
          "evalue": "name 'lista' is not defined",
          "traceback": [
            "\u001b[0;31m---------------------------------------------------------------------------\u001b[0m",
            "\u001b[0;31mNameError\u001b[0m                                 Traceback (most recent call last)",
            "\u001b[0;32m<ipython-input-24-412ebda7ec35>\u001b[0m in \u001b[0;36m<cell line: 0>\u001b[0;34m()\u001b[0m\n\u001b[1;32m      1\u001b[0m \u001b[0mlista\u001b[0m \u001b[0;34m=\u001b[0m \u001b[0;34m[\u001b[0m\u001b[0;36m1\u001b[0m\u001b[0;34m,\u001b[0m \u001b[0;36m2\u001b[0m\u001b[0;34m,\u001b[0m \u001b[0;36m3\u001b[0m\u001b[0;34m]\u001b[0m\u001b[0;34m\u001b[0m\u001b[0;34m\u001b[0m\u001b[0m\n\u001b[1;32m      2\u001b[0m \u001b[0;32mdel\u001b[0m \u001b[0mlista\u001b[0m\u001b[0;34m\u001b[0m\u001b[0;34m\u001b[0m\u001b[0m\n\u001b[0;32m----> 3\u001b[0;31m \u001b[0mprint\u001b[0m\u001b[0;34m(\u001b[0m\u001b[0mlista\u001b[0m\u001b[0;34m)\u001b[0m\u001b[0;34m\u001b[0m\u001b[0;34m\u001b[0m\u001b[0m\n\u001b[0m",
            "\u001b[0;31mNameError\u001b[0m: name 'lista' is not defined"
          ]
        }
      ]
    },
    {
      "cell_type": "code",
      "source": [],
      "metadata": {
        "id": "Qn2dzbM4nEu2"
      },
      "execution_count": null,
      "outputs": []
    }
  ]
}