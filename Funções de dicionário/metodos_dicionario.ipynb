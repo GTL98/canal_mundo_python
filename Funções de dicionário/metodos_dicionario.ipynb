{
  "nbformat": 4,
  "nbformat_minor": 0,
  "metadata": {
    "colab": {
      "provenance": []
    },
    "kernelspec": {
      "name": "python3",
      "display_name": "Python 3"
    },
    "language_info": {
      "name": "python"
    }
  },
  "cells": [
    {
      "cell_type": "markdown",
      "source": [
        "# 1. O que é um dicionário"
      ],
      "metadata": {
        "id": "zxMb2IMNDpDd"
      }
    },
    {
      "cell_type": "code",
      "execution_count": 1,
      "metadata": {
        "id": "50clFumyDheN",
        "colab": {
          "base_uri": "https://localhost:8080/"
        },
        "outputId": "c0489daa-32d6-40a3-b0ab-8acbda52a342"
      },
      "outputs": [
        {
          "output_type": "stream",
          "name": "stdout",
          "text": [
            "{'chave': 'valor'}\n"
          ]
        }
      ],
      "source": [
        "dic = {'chave': 'valor'}\n",
        "print(dic)"
      ]
    },
    {
      "cell_type": "markdown",
      "source": [
        "# 2. Apagar um dicionário"
      ],
      "metadata": {
        "id": "WGKj5lvUDuwI"
      }
    },
    {
      "cell_type": "code",
      "source": [
        "dados = {'nome': 'João', 'idade': 25}\n",
        "dados.clear()\n",
        "print(dados)"
      ],
      "metadata": {
        "id": "unhesyusDvxL",
        "colab": {
          "base_uri": "https://localhost:8080/"
        },
        "outputId": "b8bf9a6d-4809-4dcf-e0ea-ff4f3e64e26e"
      },
      "execution_count": 2,
      "outputs": [
        {
          "output_type": "stream",
          "name": "stdout",
          "text": [
            "{}\n"
          ]
        }
      ]
    },
    {
      "cell_type": "markdown",
      "source": [
        "# 3. Copiar um dicionário"
      ],
      "metadata": {
        "id": "-0Ycb-qUDxC1"
      }
    },
    {
      "cell_type": "code",
      "source": [
        "dados = {'nome': 'João', 'idade': 25}\n",
        "copia = dados.copy()\n",
        "print(copia)"
      ],
      "metadata": {
        "id": "ZfSBmeK8DyjM",
        "colab": {
          "base_uri": "https://localhost:8080/"
        },
        "outputId": "cbe13b07-4220-44ae-ac0d-2142772af7ea"
      },
      "execution_count": 3,
      "outputs": [
        {
          "output_type": "stream",
          "name": "stdout",
          "text": [
            "{'nome': 'João', 'idade': 25}\n"
          ]
        }
      ]
    },
    {
      "cell_type": "markdown",
      "source": [
        "# 4. Criar um dicionário com valor padrão"
      ],
      "metadata": {
        "id": "x6ZHjuAxDy-M"
      }
    },
    {
      "cell_type": "code",
      "source": [
        "chaves = ['nome', 'idade', 'cidade']\n",
        "novo_dic = dict.fromkeys(chaves, 'Desconhecido')\n",
        "print(novo_dic)"
      ],
      "metadata": {
        "id": "MNe0cmfjD2HE",
        "colab": {
          "base_uri": "https://localhost:8080/"
        },
        "outputId": "ec7dd55d-d3ad-4f8e-b536-c816d1427241"
      },
      "execution_count": 4,
      "outputs": [
        {
          "output_type": "stream",
          "name": "stdout",
          "text": [
            "{'nome': 'Desconhecido', 'idade': 'Desconhecido', 'cidade': 'Desconhecido'}\n"
          ]
        }
      ]
    },
    {
      "cell_type": "markdown",
      "source": [
        "# 5. Obter um valor do dicionário"
      ],
      "metadata": {
        "id": "RoaXv_zvD2n5"
      }
    },
    {
      "cell_type": "code",
      "source": [
        "dados = {'nome': 'João', 'idade': 25}\n",
        "print(dados.get('nome'))\n",
        "print(dados.get('cidade', 'A chave não existe'))"
      ],
      "metadata": {
        "id": "OdfBU2T9D8QM",
        "colab": {
          "base_uri": "https://localhost:8080/"
        },
        "outputId": "c498fb1b-dddb-429e-cfba-05e1aa25e4ff"
      },
      "execution_count": 6,
      "outputs": [
        {
          "output_type": "stream",
          "name": "stdout",
          "text": [
            "João\n",
            "A chave não existe\n"
          ]
        }
      ]
    },
    {
      "cell_type": "markdown",
      "source": [
        "# 6. Mostrar os itens do dicionário (par chave-valor)"
      ],
      "metadata": {
        "id": "s-gnXt-GD8pz"
      }
    },
    {
      "cell_type": "code",
      "source": [
        "dados = {'nome': 'João', 'idade': 25}\n",
        "print(list(dados.items()))"
      ],
      "metadata": {
        "id": "ulQjwgmnEAFQ",
        "colab": {
          "base_uri": "https://localhost:8080/"
        },
        "outputId": "5088c9a0-2e0f-4037-9f91-cf22980b5034"
      },
      "execution_count": 7,
      "outputs": [
        {
          "output_type": "stream",
          "name": "stdout",
          "text": [
            "[('nome', 'João'), ('idade', 25)]\n"
          ]
        }
      ]
    },
    {
      "cell_type": "markdown",
      "source": [
        "# 7. Mostrar as chaves do dicionário"
      ],
      "metadata": {
        "id": "dRFh-cHqEAdi"
      }
    },
    {
      "cell_type": "code",
      "source": [
        "dados = {'nome': 'João', 'idade': 25}\n",
        "print(list(dados.keys()))"
      ],
      "metadata": {
        "id": "atlWl2tgECNz",
        "colab": {
          "base_uri": "https://localhost:8080/"
        },
        "outputId": "c01740ba-d9de-4b8a-fe73-d18aa920c428"
      },
      "execution_count": 8,
      "outputs": [
        {
          "output_type": "stream",
          "name": "stdout",
          "text": [
            "['nome', 'idade']\n"
          ]
        }
      ]
    },
    {
      "cell_type": "markdown",
      "source": [
        "# 8. Mostrar os valores do dicionário"
      ],
      "metadata": {
        "id": "ftXkZ067ECrd"
      }
    },
    {
      "cell_type": "code",
      "source": [
        "dados = {'nome': 'João', 'idade': 25}\n",
        "print(list(dados.values()))"
      ],
      "metadata": {
        "id": "Lrr0vvtvEFUN",
        "colab": {
          "base_uri": "https://localhost:8080/"
        },
        "outputId": "20e432d9-adef-4cee-d09f-1b2466de14ab"
      },
      "execution_count": 9,
      "outputs": [
        {
          "output_type": "stream",
          "name": "stdout",
          "text": [
            "['João', 25]\n"
          ]
        }
      ]
    },
    {
      "cell_type": "markdown",
      "source": [
        "# 9. Excluir um par chave-valor em específico"
      ],
      "metadata": {
        "id": "tX1CqBoGEFxX"
      }
    },
    {
      "cell_type": "code",
      "source": [
        "dados = {'nome': 'João', 'idade': 25}\n",
        "idade = dados.pop('idade')\n",
        "print(idade)\n",
        "print(dados)"
      ],
      "metadata": {
        "id": "jnQHMhklEJQ7",
        "colab": {
          "base_uri": "https://localhost:8080/"
        },
        "outputId": "7289f16f-513b-409d-bf30-1e3f243d06dd"
      },
      "execution_count": 10,
      "outputs": [
        {
          "output_type": "stream",
          "name": "stdout",
          "text": [
            "25\n",
            "{'nome': 'João'}\n"
          ]
        }
      ]
    },
    {
      "cell_type": "markdown",
      "source": [
        "# 10. Excluir o último par chave-valor"
      ],
      "metadata": {
        "id": "Ktr8qZp8EPCS"
      }
    },
    {
      "cell_type": "code",
      "source": [
        "dados = {'nome': 'João', 'idade': 25, 'cidade': 'Curitiba'}\n",
        "item = dados.popitem()\n",
        "print(item)\n",
        "print(dados)"
      ],
      "metadata": {
        "id": "HR5WJ30pEQCJ",
        "colab": {
          "base_uri": "https://localhost:8080/"
        },
        "outputId": "361814b9-3fdf-4756-994f-fc20b3c6ab76"
      },
      "execution_count": 11,
      "outputs": [
        {
          "output_type": "stream",
          "name": "stdout",
          "text": [
            "('cidade', 'Curitiba')\n",
            "{'nome': 'João', 'idade': 25}\n"
          ]
        }
      ]
    },
    {
      "cell_type": "markdown",
      "source": [
        "# 11. Adicionar um par chave-valor"
      ],
      "metadata": {
        "id": "h8XRzPIOERd_"
      }
    },
    {
      "cell_type": "code",
      "source": [
        "dados = {'nome': 'João'}\n",
        "cidade = dados.setdefault('cidade', 'Curitiba')\n",
        "print(dados)"
      ],
      "metadata": {
        "id": "i0UhDzijESME",
        "colab": {
          "base_uri": "https://localhost:8080/"
        },
        "outputId": "838066e7-9d38-48f1-e9e8-95c9db6fb865"
      },
      "execution_count": 12,
      "outputs": [
        {
          "output_type": "stream",
          "name": "stdout",
          "text": [
            "{'nome': 'João', 'cidade': 'Curitiba'}\n"
          ]
        }
      ]
    },
    {
      "cell_type": "markdown",
      "source": [
        "# 12. Juntar dois dicionários"
      ],
      "metadata": {
        "id": "3vFf4PscETnx"
      }
    },
    {
      "cell_type": "code",
      "source": [
        "dados = {'nome': 'João'}\n",
        "dados.update({'idade': 25, 'cidade': 'Curitiba'})\n",
        "print(dados)"
      ],
      "metadata": {
        "id": "2qVjxL0bEUQQ",
        "colab": {
          "base_uri": "https://localhost:8080/"
        },
        "outputId": "b57edd6d-d6c3-4dc2-eefb-a7193a919b1a"
      },
      "execution_count": 13,
      "outputs": [
        {
          "output_type": "stream",
          "name": "stdout",
          "text": [
            "{'nome': 'João', 'idade': 25, 'cidade': 'Curitiba'}\n"
          ]
        }
      ]
    }
  ]
}